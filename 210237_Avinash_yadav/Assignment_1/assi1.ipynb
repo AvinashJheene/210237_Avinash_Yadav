# 210237_Avinash_Yadav
Introduction to Data Science using Chemical Engineering datasets (Simutech Winter Project)
